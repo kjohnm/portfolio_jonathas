{
  "nbformat": 4,
  "nbformat_minor": 0,
  "metadata": {
    "colab": {
      "provenance": [],
      "authorship_tag": "ABX9TyOJ13Z3ZpTRMvK3sm3rdZFs",
      "include_colab_link": true
    },
    "kernelspec": {
      "name": "python3",
      "display_name": "Python 3"
    },
    "language_info": {
      "name": "python"
    }
  },
  "cells": [
    {
      "cell_type": "markdown",
      "metadata": {
        "id": "view-in-github",
        "colab_type": "text"
      },
      "source": [
        "<a href=\"https://colab.research.google.com/github/kjohnm/portfolio_jonathas/blob/main/forp44.ipynb\" target=\"_parent\"><img src=\"https://colab.research.google.com/assets/colab-badge.svg\" alt=\"Open In Colab\"/></a>"
      ]
    },
    {
      "cell_type": "code",
      "source": [
        "def calcular_pagamento(qtd_horas, valor_hora):\n",
        "  horas = float(qtd_horas)\n",
        "  taxa = float(valor_hora)\n",
        "  if horas <= 40:\n",
        "    salario=horas*taxa\n",
        "  else:\n",
        "    h_excd = horas - 40\n",
        "    salario = 40*taxa+(h_excd*(1.5*taxa))\n",
        "  return salario"
      ],
      "metadata": {
        "id": "zk55n2aD-Jfm"
      },
      "execution_count": null,
      "outputs": []
    },
    {
      "cell_type": "code",
      "source": [
        "def pot(a, k):\n",
        "  if k == 0:\n",
        "    valor = 1\n",
        "  else:\n",
        "    valor = a*pot(a, k-1)\n",
        "  return valor"
      ],
      "metadata": {
        "id": "FzWJZ5z3-OWN"
      },
      "execution_count": null,
      "outputs": []
    },
    {
      "cell_type": "code",
      "source": [
        "pot (3, 3)\n",
        "#print (3**3)"
      ],
      "metadata": {
        "colab": {
          "base_uri": "https://localhost:8080/"
        },
        "id": "zsLG5_F9--9z",
        "outputId": "245e1f78-6e80-4f4f-ac35-69fc5951af6f"
      },
      "execution_count": null,
      "outputs": [
        {
          "output_type": "execute_result",
          "data": {
            "text/plain": [
              "27"
            ]
          },
          "metadata": {},
          "execution_count": 19
        }
      ]
    },
    {
      "cell_type": "code",
      "source": [
        "def fatorial(k):\n",
        "  if k == 0:\n",
        "    return 1\n",
        "  else:\n",
        "    return k*fatorial(k-1)"
      ],
      "metadata": {
        "id": "DYP-7p6IAfey"
      },
      "execution_count": null,
      "outputs": []
    },
    {
      "cell_type": "code",
      "source": [
        "fatorial(5)"
      ],
      "metadata": {
        "colab": {
          "base_uri": "https://localhost:8080/"
        },
        "id": "jPvFmKHxAz21",
        "outputId": "419f9340-1f5c-431c-eee7-4c5cccae5432"
      },
      "execution_count": null,
      "outputs": [
        {
          "output_type": "execute_result",
          "data": {
            "text/plain": [
              "120"
            ]
          },
          "metadata": {},
          "execution_count": 22
        }
      ]
    },
    {
      "cell_type": "code",
      "source": [
        "def palindromo(p, esq, dir):\n",
        "  if esq>=dir:\n",
        "    return True\n",
        "  elif p[esq] != p[dir]:\n",
        "    return False\n",
        "  else:\n",
        "    return palindromo(p, esq+1, dir-1)"
      ],
      "metadata": {
        "id": "vxCViW3OA-fW"
      },
      "execution_count": null,
      "outputs": []
    },
    {
      "cell_type": "code",
      "source": [
        "p = 'arara'\n",
        "dir = len(p)-1\n",
        "palindromo(p, 0, dir)"
      ],
      "metadata": {
        "colab": {
          "base_uri": "https://localhost:8080/"
        },
        "id": "iRey9FNDGbiq",
        "outputId": "daefbde3-d45d-44d1-bcbb-c66c9fc618ea"
      },
      "execution_count": null,
      "outputs": [
        {
          "output_type": "execute_result",
          "data": {
            "text/plain": [
              "True"
            ]
          },
          "metadata": {},
          "execution_count": 2
        }
      ]
    },
    {
      "cell_type": "code",
      "source": [],
      "metadata": {
        "id": "Hv0dmi2Rmo6d"
      },
      "execution_count": null,
      "outputs": []
    },
    {
      "cell_type": "code",
      "source": [
        "def inverter(p, esq, dir):\n",
        "  if(esq>= dir):\n",
        "    return p\n",
        "  else:\n",
        "    aux = p[esq]\n",
        "    p[esq] = p[dir]\n",
        "    p[dir] = aux\n",
        "    esq = esq+1\n",
        "    dir = dir-1\n",
        "    inverter(p, esq, dir)\n",
        "  return p\n",
        "\n",
        "  #while (esq<dir):\n",
        "    #aux = p[esq]\n",
        "    #p[esq] = p[dir]\n",
        "    #p[dir] = aux\n",
        "    #esq = esq+1\n",
        "    #dir = dir-1\n",
        "  #return p"
      ],
      "metadata": {
        "id": "ZJ43WpA5J_dl"
      },
      "execution_count": null,
      "outputs": []
    },
    {
      "cell_type": "code",
      "source": [
        "p = list('arado')\n",
        "dir = len(p)-1\n",
        "inverter(p, 0, dir)"
      ],
      "metadata": {
        "colab": {
          "base_uri": "https://localhost:8080/"
        },
        "id": "_k5CTSOhLCVd",
        "outputId": "38a1f76d-02a7-4aab-a586-4e3b95fef744"
      },
      "execution_count": null,
      "outputs": [
        {
          "output_type": "execute_result",
          "data": {
            "text/plain": [
              "['o', 'd', 'a', 'r', 'a']"
            ]
          },
          "metadata": {},
          "execution_count": 63
        }
      ]
    },
    {
      "cell_type": "code",
      "source": [
        "#def multMatrizes(a, b, c, n):\n",
        "  #for i in range(n):\n",
        "    #for j in range(n):\n",
        "      #c[i,j] = 0\n",
        "      #for k in range(n):\n",
        "        #c[i,j] = c[i,j] + a[i, k]*b[k,j]\n",
        "  #return c"
      ],
      "metadata": {
        "id": "ZangxaDcH7Po"
      },
      "execution_count": null,
      "outputs": []
    },
    {
      "cell_type": "code",
      "source": [
        "def buscaSeq(A, z, i, n):\n",
        "  while(i<n):\n",
        "    #if(z == A[i])\n",
        "    #return i\n",
        "    if(z in A):\n",
        "      return i\n",
        "    else:\n",
        "      #i = i+1\n",
        "      #buscaSeq(A[i], z, i, n)\n",
        "      return 0"
      ],
      "metadata": {
        "id": "qYmB3lEGulNY"
      },
      "execution_count": null,
      "outputs": []
    },
    {
      "cell_type": "code",
      "source": [
        "A = [1, 2, 3, 4, 5]\n",
        "#print(A[1])\n",
        "n = len(A)-1\n",
        "print(n)\n",
        "buscaSeq(A, 2, 3, n)"
      ],
      "metadata": {
        "colab": {
          "base_uri": "https://localhost:8080/"
        },
        "id": "x90hdSLuvO1o",
        "outputId": "af65cfb9-f1dd-410d-d077-eb0c4c0d88db"
      },
      "execution_count": null,
      "outputs": [
        {
          "output_type": "stream",
          "name": "stdout",
          "text": [
            "4\n"
          ]
        },
        {
          "output_type": "execute_result",
          "data": {
            "text/plain": [
              "3"
            ]
          },
          "metadata": {},
          "execution_count": 4
        }
      ]
    },
    {
      "cell_type": "code",
      "source": [
        "i =0\n",
        "A = [10, 1, 2, 12, 15, 3, 24, 5]\n",
        "min = A[i]\n",
        "max = A[i]\n",
        "for i in range(8):\n",
        "  if(A[i]>max):\n",
        "    max = A[i]\n",
        "  if(A[i]<min):\n",
        "    min = A[i]\n",
        "print('Maximo: ', max,  ' e Minimo: ', min)\n",
        "#supondo vetor ordenado usaria basicamente so essa parte\n",
        "print('O intervalo deste conjunto é: ', max-min)\n"
      ],
      "metadata": {
        "colab": {
          "base_uri": "https://localhost:8080/"
        },
        "id": "GpzFJlfv6jKU",
        "outputId": "f53ca823-063d-4eed-f398-f45633467ed2"
      },
      "execution_count": null,
      "outputs": [
        {
          "output_type": "stream",
          "name": "stdout",
          "text": [
            "Maximo:  24  e Minimo:  1\n",
            "O intervalo deste conjunto é:  23\n"
          ]
        }
      ]
    },
    {
      "cell_type": "code",
      "source": [
        "#def troca(a, b):\n",
        "aux = 0\n",
        "  #aux = a\n",
        "  #a = b\n",
        "  #b = aux\n",
        "#alg ordena bruto\n",
        "i = 0\n",
        "j = 1\n",
        "A = [10, 1, 2, 12, 15, 3, 24, 5]\n",
        "for i in range(8):\n",
        "  for j in range(8):\n",
        "    if(A[j] < A[i]):\n",
        "      aux = A[j]\n",
        "      A[j] = A[i]\n",
        "      A[i] = aux\n",
        "print(A)"
      ],
      "metadata": {
        "id": "mI2quvAgRkYh",
        "colab": {
          "base_uri": "https://localhost:8080/"
        },
        "outputId": "c102e391-e17c-4919-a66b-58290f355f0e"
      },
      "execution_count": null,
      "outputs": [
        {
          "output_type": "stream",
          "name": "stdout",
          "text": [
            "[24, 15, 12, 10, 5, 3, 2, 1]\n"
          ]
        }
      ]
    },
    {
      "cell_type": "code",
      "source": [
        "#BuscaBinaria\n",
        "#Entrada: Uma seqüência ordenada X de tamanho n e o numero z\n",
        "#Saída: Índice i tal que X[i] = z ou -1 se o elemento não existir\n",
        "def encontre(X, esqe, dire, z):\n",
        "  if(esqe == dire):\n",
        "    if(X[esqe] == z):\n",
        "      return esqe\n",
        "    else:\n",
        "      return -1\n",
        "  else:\n",
        "    meio = int((esqe+dire)/2)\n",
        "    print(meio)\n",
        "    if X[meio] == z:\n",
        "      return meio\n",
        "    if(z<X[meio]):\n",
        "      return encontre(X, esqe, meio, z)\n",
        "    else:\n",
        "      return encontre(X, meio+1, dire, z)\n"
      ],
      "metadata": {
        "id": "rRGsqhdRVIax"
      },
      "execution_count": null,
      "outputs": []
    },
    {
      "cell_type": "code",
      "source": [
        "X = [1, 2, 3, 5, 10, 12, 15, 24]\n",
        "encontre(X, 0, 7, 29)"
      ],
      "metadata": {
        "id": "YLuj7JnwUw1p"
      },
      "execution_count": null,
      "outputs": []
    },
    {
      "cell_type": "code",
      "source": [
        "#BuscaBinaria para rotação\n",
        "def encontreRot(X, esqe, dire):\n",
        "  if(esqe == dire):\n",
        "    if(X[esqe] < X[dire]):\n",
        "      return 0\n",
        "    else:\n",
        "      return -1\n",
        "  else:\n",
        "    meio = int((esqe+dire)/2)\n",
        "    #print(meio)\n",
        "    if X[meio] > X[meio+1]:\n",
        "      return meio\n",
        "    if(X[esqe] < X[meio]):\n",
        "      return encontreRot(X, meio+1, dire)\n",
        "    else:\n",
        "      return encontreRot(X, esqe, meio)"
      ],
      "metadata": {
        "id": "VnHvsBg8c_Cp"
      },
      "execution_count": null,
      "outputs": []
    },
    {
      "cell_type": "code",
      "source": [
        "X = [2,4,7,9,15]\n",
        "indice = encontreRot(X, 0, 4)\n",
        "#print('indice: ', indice)\n",
        "if(indice>=0):\n",
        "  print('rot: ', len(X)-indice-1)\n",
        "else:\n",
        "  print('Já está ordenado')\n"
      ],
      "metadata": {
        "id": "KK0wuvGTnY59"
      },
      "execution_count": null,
      "outputs": []
    },
    {
      "cell_type": "code",
      "source": [
        "#MergeSort dos slides. Precisa Ajustar\n",
        "\n",
        "X=[6,2,5,10,9,7,1,4]\n",
        "\n",
        "def intercala(Y, aux, le, m, r):\n",
        "    #Combina os vetores ordenados em outro também ordenado\n",
        "  for i in range(le, m+1):\n",
        "    A[i] = Y[i]\n",
        "\n",
        "  for j in range(m+1, r):\n",
        "    B[j-m] = Y[j]\n",
        "\n",
        "  tamA = m-le\n",
        "  tamB = r-m\n",
        "  i = 1\n",
        "  j = 1\n",
        "  k = le\n",
        "\n",
        "  while (i<=tamA and j<=tamB):\n",
        "    if A[i] <= B[j]:\n",
        "      Y[k] = A[i]\n",
        "      i=i+1\n",
        "\n",
        "    else:\n",
        "      Y[k] = B[j]\n",
        "      j=j+1\n",
        "\n",
        "    k= k+1\n",
        "\n",
        "  while i <= tamA:\n",
        "    Y[k] = A[i]\n",
        "    i=i+1\n",
        "    k=k+1\n",
        "\n",
        "  while j<= tamB:\n",
        "    Y[k] = B[j];\n",
        "    j=j+1;\n",
        "    k=k+1\n",
        "\n",
        "  def mergeSort(X, aux, esq, dir):\n",
        "    if esq < dir:         #então cai no caso geral\n",
        "      return\n",
        "      meio = (esq+dir)//2\n",
        "      #print(meio)\n",
        "      mergeSort(X, esq, meio)\n",
        "      mergeSort(X, meio+1, dir)\n",
        "      intercala(X, esq, meio, dir)\n"
      ],
      "metadata": {
        "id": "Fc06sKvgOdTR"
      },
      "execution_count": null,
      "outputs": []
    },
    {
      "cell_type": "code",
      "source": [
        "# Testa o algoritmo.\n",
        "X = [12,6,2,5,10,9,7,1,4]\n",
        "print(\"Antes da ordenação: \", X)\n",
        "aux = [0] * len(X)\n",
        "mergesort(X, aux, 0, len(X) - 1)\n",
        "print(\"Depois da ordenação:\", X)"
      ],
      "metadata": {
        "id": "UgpKx2KqR-vb",
        "colab": {
          "base_uri": "https://localhost:8080/"
        },
        "outputId": "f3a41a05-8f92-449f-e385-192aff6758e8"
      },
      "execution_count": null,
      "outputs": [
        {
          "output_type": "stream",
          "name": "stdout",
          "text": [
            "Antes da ordenação:  [12, 6, 2, 5, 10, 9, 7, 1, 4]\n",
            "Depois da ordenação: [2, 2, 2, 6, 2, 6, 9, 10, 4]\n"
          ]
        }
      ]
    },
    {
      "cell_type": "code",
      "source": [
        "def intercala(A, aux, esquerda, meio, direita):\n",
        "    #Combina 2 vetores ordenados em 1 unico tambem ordenado\n",
        "    for k in range(esquerda, direita + 1):\n",
        "        aux[k] = A[k]\n",
        "    i = esquerda\n",
        "    j = meio + 1\n",
        "    for k in range(esquerda, direita + 1):\n",
        "        if i > meio:\n",
        "            A[k] = aux[j]\n",
        "            j += 1\n",
        "        elif j > direita:\n",
        "            A[k] = aux[i]\n",
        "            i += 1\n",
        "        elif aux[j] < aux[i]:\n",
        "            A[k] = aux[j]\n",
        "            j += 1\n",
        "        else:\n",
        "            A[k] = aux[i]\n",
        "            i += 1\n",
        "\n",
        "\n",
        "def mergesort(A, aux, esquerda, direita):\n",
        "    if direita <= esquerda:\n",
        "        return\n",
        "    meio = (esquerda + direita) // 2\n",
        "    #print(meio)\n",
        "\n",
        "    # Ordena a primeira metade do arranjo.\n",
        "    mergesort(A, aux, esquerda, meio)\n",
        "\n",
        "    # Ordena a segunda metade do arranjo.\n",
        "    mergesort(A, aux, meio + 1, direita)\n",
        "\n",
        "    # Combina metades ordenadas anteriormente.\n",
        "    intercala(A, aux, esquerda, meio, direita)"
      ],
      "metadata": {
        "id": "WHy_eWLIi4R2"
      },
      "execution_count": null,
      "outputs": []
    },
    {
      "cell_type": "code",
      "source": [
        "# Testa o algoritmo.\n",
        "A = [12,6,2,5,10,9,7,1,4]\n",
        "print(\"Antes da ordenação: \", A)\n",
        "aux = [0] * len(A)\n",
        "mergesort(A, aux, 0, len(A) - 1)\n",
        "print(\"Depois da ordenação:\", A)\n"
      ],
      "metadata": {
        "id": "0Ub30snBjdYA"
      },
      "execution_count": null,
      "outputs": []
    },
    {
      "cell_type": "code",
      "source": [
        "#Outra forma de mergesort\n",
        "\n",
        "def mergeSort(lista):\n",
        "    print(\"Dividindo lista \",lista)\n",
        "    if len(lista)>1:\n",
        "        mid = len(lista)//2\n",
        "        esq = lista[:mid]\n",
        "        dir = lista[mid:]\n",
        "\n",
        "        mergeSort(esq)\n",
        "        mergeSort(dir)\n",
        "\n",
        "        i=0\n",
        "        j=0\n",
        "        k=0\n",
        "        while i < len(esq) and j < len(dir):\n",
        "            if esq[i] < dir[j]:\n",
        "                lista[k]=esq[i]\n",
        "                i=i+1\n",
        "            else:\n",
        "                lista[k]=dir[j]\n",
        "                j=j+1\n",
        "            k=k+1\n",
        "\n",
        "        while i < len(esq):\n",
        "            lista[k]=esq[i]\n",
        "            i=i+1\n",
        "            k=k+1\n",
        "\n",
        "        while j < len(dir):\n",
        "            lista[k]=dir[j]\n",
        "            j=j+1\n",
        "            k=k+1\n",
        "    print(\"Merging \",lista)\n",
        "\n",
        "lista = [13,54,26,93,17,77,31,44,55,20]\n",
        "mergeSort(lista)\n",
        "print(lista)"
      ],
      "metadata": {
        "id": "_ZCsyXZMDLwQ"
      },
      "execution_count": null,
      "outputs": []
    },
    {
      "cell_type": "code",
      "source": [
        "#Mergesort Questao Recomendada Pg12 Slide \"Mergesort\"\n",
        "\n",
        "# Dado um vetor de inteiros X de n elementos, em ordem arbitrária, adapte o algoritmo\n",
        "# MergeSort para determinar a lista de pares (X[i], X[j]), tal que 1 ≤ i < j ≤ n e X[i] <\n",
        "# X[j]. Calcule a complexidade de seu algoritmo.\n",
        "\n",
        "def merge_sort_pairs(X):\n",
        "    count = 0\n",
        "    if len(X) > 1:\n",
        "        mid = len(X) // 2\n",
        "        left = X[:mid]\n",
        "        right = X[mid:]\n",
        "\n",
        "        # Ordena recursivamente as duas metades\n",
        "        merge_sort_pairs(left)\n",
        "        merge_sort_pairs(right)\n",
        "\n",
        "        # Junta as duas metades em um vetor ordenado\n",
        "        i = j = k = 0\n",
        "        while i < len(left) and j < len(right):\n",
        "            if left[i] < right[j]:\n",
        "                X[k] = left[i]\n",
        "                i += 1\n",
        "                count += len(right)-i\n",
        "            else:\n",
        "                X[k] = right[j]\n",
        "                j += 1\n",
        "                # Conta os pares (X[i], X[j]) onde X[i] < X[j]\n",
        "                count += len(left)-i\n",
        "            k += 1\n",
        "\n",
        "        while i < len(left):\n",
        "            X[k] = left[i]\n",
        "            i += 1\n",
        "            k += 1\n",
        "\n",
        "        while j < len(right):\n",
        "            X[k] = right[j]\n",
        "            j += 1\n",
        "            k += 1\n",
        "\n",
        "    return count\n"
      ],
      "metadata": {
        "id": "3QvR4hMOuZaj"
      },
      "execution_count": null,
      "outputs": []
    },
    {
      "cell_type": "code",
      "source": [
        "# Testando o Algoritmo\n",
        "\n",
        "X = [3, 1, 4, 1, 5, 9, 2, 6, 5, 3, 5]\n",
        "count = merge_sort_pairs(X)\n",
        "print(X)\n",
        "print(count)"
      ],
      "metadata": {
        "colab": {
          "base_uri": "https://localhost:8080/"
        },
        "id": "Cd-HGAM1vH4B",
        "outputId": "42ddd926-8b49-4a24-ba66-49ee30958e00"
      },
      "execution_count": null,
      "outputs": [
        {
          "output_type": "stream",
          "name": "stdout",
          "text": [
            "[1, 1, 2, 3, 3, 4, 5, 5, 5, 6, 9]\n",
            "23\n"
          ]
        }
      ]
    },
    {
      "cell_type": "code",
      "source": [
        "# Questao slide Mergesort (Empacotamento dos vasos) PS AJUSTAR\n",
        "\n",
        "def merge_vasos(vasos):\n",
        "    # Caso base: se o vetor de vasos tiver tamanho 0 ou 1, retorna ele mesmo\n",
        "    if len(vasos) <= 1:\n",
        "        return vasos\n",
        "\n",
        "    # Divide o vetor de vasos em duas metades\n",
        "    meio = len(vasos) // 2\n",
        "    esquerda = merge_vasos(vasos[:meio])\n",
        "    direita = merge_vasos(vasos[meio:])\n",
        "\n",
        "    # Une as duas metades em um único vetor ordenado, empacotando os vasos se necessário\n",
        "    i, j = 0, 0  # índices para percorrer os vetores esquerda e direita, respectivamente\n",
        "    pacotes = []  # lista de vasos empacotados\n",
        "    while i < len(esquerda) and j < len(direita):\n",
        "        if esquerda[i] <= direita[j]:  # se o vaso atual da esquerda for menor ou igual ao vaso atual da direita\n",
        "            if pacotes and pacotes[-1] < esquerda[i]:  # verifica se o último vaso empacotado é menor do que o vaso atual da esquerda\n",
        "                pacotes[-1] = esquerda[i]  # se sim, substitui o último vaso empacotado pelo vaso atual da esquerda\n",
        "            else:\n",
        "                pacotes.append(esquerda[i])  # caso contrário, adiciona o vaso atual da esquerda como um novo pacote\n",
        "            i += 1\n",
        "        else:  # se o vaso atual da direita for menor do que o vaso atual da esquerda\n",
        "            if pacotes and pacotes[-1] < direita[j]:  # verifica se o último vaso empacotado é menor do que o vaso atual da direita\n",
        "                pacotes[-1] = direita[j]  # se sim, substitui o último vaso empacotado pelo vaso atual da direita\n",
        "            else:\n",
        "                pacotes.append(direita[j])  # caso contrário, adiciona o vaso atual da direita como um novo pacote\n",
        "            j += 1\n",
        "\n",
        "    # Adiciona os vasos restantes (se houver) à lista de pacotes\n",
        "    pacotes.extend(esquerda[i:])\n",
        "    pacotes.extend(direita[j:])\n",
        "\n",
        "    # Retorna a lista de pacotes\n",
        "    return pacotes\n",
        "\n"
      ],
      "metadata": {
        "id": "YtrYGUBIDI9s"
      },
      "execution_count": null,
      "outputs": []
    },
    {
      "cell_type": "code",
      "source": [
        "vasos = [2, 1, 5, 4, 3]\n",
        "pacotes = merge_vasos(vasos)\n",
        "print(\"Número mínimo de pacotes: \", len(pacotes))"
      ],
      "metadata": {
        "id": "wi4iSeQ6DU_6"
      },
      "execution_count": null,
      "outputs": []
    },
    {
      "cell_type": "code",
      "source": [
        "#QuickSort aula 10 // Necessário Ajustar\n",
        "\n",
        "def QSort(X, esq, dir):\n",
        "  if (esq < dir):\n",
        "    pos = Particao(X, esq, dir)\n",
        "    QSort(X, esq, pos-1)\n",
        "    QSort(X, pos+1, dir)\n",
        "\n",
        "def Particao(X, esq, dir):\n",
        "  pivo = X[esq]\n",
        "  L = esq\n",
        "  R = dir\n",
        "  aux = 0\n",
        "\n",
        "  while (L < R):\n",
        "    while (X[L] <= pivo and L <= dir) :\n",
        "       L = L+1\n",
        "    while (X[R] > pivo and R >= esq) :\n",
        "      R = R-1\n",
        "    if (L < R):\n",
        "      aux =  X[L]\n",
        "      X[L] = X[R]\n",
        "      X[R] = aux\n",
        "    #pos = R\n",
        "    aux = X[esq]\n",
        "    X[esq] = X[dir]\n",
        "    X[dir] = aux\n",
        "\n",
        "  return R\n",
        "\n"
      ],
      "metadata": {
        "id": "PgM6bfAA2QRq"
      },
      "execution_count": null,
      "outputs": []
    },
    {
      "cell_type": "code",
      "source": [
        "# Testa o algoritmo.\n",
        "X = [12,6,2,5,10,9,7,1,4]\n",
        "print(\"Antes da ordenação: \", X)\n",
        "QSort(X, 1, len(X)-1)\n",
        "print(\"Depois da ordenação: \", X)"
      ],
      "metadata": {
        "id": "qTc9_Bt84Y_U"
      },
      "execution_count": null,
      "outputs": []
    },
    {
      "cell_type": "code",
      "source": [
        "#Outra Forma do QuickSort\n",
        "# qesq = esquerda no algoritmo quicksort qdir = direita no quicksort qX = vetor x para usar no quickSort qparticao = particao para quicksort\n",
        "\n",
        "def quickSort(qX,qesq,qdir):\n",
        "   if qesq<qdir:\n",
        "       pos = qparticao(qX,qesq,qdir)\n",
        "       quickSort(qX,qesq,pos-1)\n",
        "       quickSort(qX,pos+1,qdir)\n",
        "\n",
        "def qparticao(qX,qesq,qdir):\n",
        "   pivo = qX[qesq]\n",
        "   lmark = qesq+1\n",
        "   rmark = qdir\n",
        "\n",
        "   done = False\n",
        "   while not done:\n",
        "\n",
        "       while lmark <= rmark and qX[lmark] <= pivo:\n",
        "           lmark = lmark + 1\n",
        "\n",
        "       while qX[rmark] >= pivo and rmark >= lmark:\n",
        "           rmark = rmark -1\n",
        "\n",
        "       if rmark < lmark:\n",
        "           done = True\n",
        "       else:\n",
        "           temp = qX[lmark]\n",
        "           qX[lmark] = qX[rmark]\n",
        "           qX[rmark] = temp\n",
        "\n",
        "   temp = qX[qesq]\n",
        "   qX[qesq] = qX[rmark]\n",
        "   qX[rmark] = temp\n",
        "\n",
        "   return rmark\n",
        "\n",
        "#Testa o Algoritmo\n",
        "qX = [54,26,93,17,77,31,44,55,20]\n",
        "quickSort(qX, 0, len(qX)-1)\n",
        "print(qX)"
      ],
      "metadata": {
        "id": "pEZD-rjSC_pt"
      },
      "execution_count": null,
      "outputs": []
    },
    {
      "cell_type": "code",
      "source": [
        "#Heap Aula 11\n",
        "#algoritmo MontaMaxHeap(A,n)\n",
        "\n",
        "def MaxHeapify(A, i, n):\n",
        "  esq = 2*i\n",
        "  dir = 2*i+1\n",
        "  if (esq <= n and A[esq] > A[i-1]):\n",
        "    maior = esq\n",
        "  else: maior = i\n",
        "\n",
        "  if (dir <= n and A[dir] > A[maior]):\n",
        "    maior = dir\n",
        "\n",
        "  if (maior != i):\n",
        "    temp = A[maior]\n",
        "    A[maior] = A[i]\n",
        "    A[i] = temp\n",
        "    MaxHeapify(A, maior, n)\n",
        "\n",
        "#Testa o Algoritmo\n",
        "A = [21,12,10,9,1,3,2,23,15,11]\n",
        "print(\"tamanho da lista: \", len(A))\n",
        "\n",
        "if (len(A)%2 == 0):\n",
        "  n = len(A)\n",
        "  print(\"--- caso 1 --- \")\n",
        "  for i in range(int(len(A)/2)-1, -2, -1):\n",
        "      print (\"Passo i = \", i)\n",
        "      print(A)\n",
        "      MaxHeapify(A, i, n)\n",
        "else:\n",
        "  print(\"--- caso 2 --- \")\n",
        "  for i in range(int(len(A)/2), -2, -1):\n",
        "      print (\"Passo i = \", i)\n",
        "      print(A)\n",
        "      MaxHeapify(A, i, n)"
      ],
      "metadata": {
        "id": "NpfmuZTbvnkZ"
      },
      "execution_count": null,
      "outputs": []
    },
    {
      "cell_type": "code",
      "source": [
        "#Outro Teste MontaMaxHeap\n",
        "def MaxHeapify(A, i, n):\n",
        "  esq = 2*i+1\n",
        "  dir = 2*i+2\n",
        "  if (esq < n and A[esq] > A[i]):\n",
        "    maior = esq\n",
        "  else: maior = i\n",
        "\n",
        "  if (dir < n and A[dir] > A[maior]):\n",
        "    maior = dir\n",
        "\n",
        "  if (maior != i):\n",
        "    temp = A[maior]\n",
        "    A[maior] = A[i]\n",
        "    A[i] = temp\n",
        "    MaxHeapify(A, maior, n)\n",
        "\n",
        "#Testa o Algoritmo\n",
        "A = [21,12,10,9,1,3,2,5,6,4]\n",
        "n = len(A)\n",
        "print(\"tamanho da lista: \", n)\n",
        "for i in range(int(len(A)/2), -1, -1):\n",
        "    print (\"Passo i = \", i)\n",
        "    print(A)\n",
        "    MaxHeapify(A, i, n)"
      ],
      "metadata": {
        "id": "0VKqPe5pIscI"
      },
      "execution_count": null,
      "outputs": []
    },
    {
      "cell_type": "code",
      "source": [
        "#InsereHeap Precisa ajustar\n",
        "def insereHeap(A, n, x):\n",
        "  A[m] = x\n",
        "  filho = m\n",
        "  pai = int(m/2)\n",
        "  while (pai >= 1):\n",
        "    if A[pai] < A[filho]:\n",
        "      temp = A[pai]\n",
        "      A[pai] = A[filho]\n",
        "      A[filho] = temp\n",
        "      filho = pai\n",
        "      pai = pai/2\n",
        "    else:\n",
        "      pai = 0"
      ],
      "metadata": {
        "id": "VO3w7ZB3MkAZ"
      },
      "execution_count": null,
      "outputs": []
    },
    {
      "cell_type": "code",
      "source": [
        "#RemoveHeap precisa ajustar\n",
        "\n",
        "def removeMaxHeap(A,n,z):\n",
        "  if(n == 0):\n",
        "    print(\"heap vazio\")\n",
        "  else:\n",
        "    z = A[1]  #guarda o elemento removido\n",
        "\n",
        "  temp = A[1]\n",
        "  A[1] = A[n-1]\n",
        "  A[n-1] = temp\n",
        "  del(A[2])\n",
        "\n",
        "  MaxHeapify(A,1,n)     #—rearranja o heap com os n-1 elementos\n"
      ],
      "metadata": {
        "id": "2_yWNPRHOfzJ"
      },
      "execution_count": null,
      "outputs": []
    },
    {
      "cell_type": "code",
      "source": [
        "#HeapSort aula 11\n",
        "\n",
        "#para i = n decrescendo até 2 faça\n",
        "for i in range(n):\n",
        "  #Troca(A[1], A[i])\n",
        "  (A[1], A[i]) = (A[i], A[1])\n",
        "  MaxHeapify(A, 1, i-1);\n",
        "  print(A)\n"
      ],
      "metadata": {
        "id": "7nvWh9J3YhdF"
      },
      "execution_count": null,
      "outputs": []
    },
    {
      "cell_type": "code",
      "source": [
        "#Teste completo com HeapSort\n",
        "\n",
        "# -*- coding: utf-8 -*-\n",
        "# Python program for implementation of heap Sort\n",
        "\n",
        "# To heapify subtree rooted at index i.\n",
        "# n is size of heap\n",
        "\n",
        "\n",
        "def heapify(arr, n, i):\n",
        "    largest = i  # Initialize largest as root\n",
        "    l = 2 * i + 1  # left = 2*i + 1\n",
        "    r = 2 * i + 2  # right = 2*i + 2\n",
        "\n",
        " # See if left child of root exists and is\n",
        " # greater than root\n",
        "\n",
        "    if l < n and arr[i] < arr[l]:\n",
        "        largest = l\n",
        "\n",
        " # See if right child of root exists and is\n",
        " # greater than root\n",
        "\n",
        "    if r < n and arr[largest] < arr[r]:\n",
        "        largest = r\n",
        "\n",
        " # Change root, if needed\n",
        "\n",
        "    if largest != i:\n",
        "        (arr[i], arr[largest]) = (arr[largest], arr[i])  # swap\n",
        "\n",
        "  # Heapify the root.\n",
        "\n",
        "        heapify(arr, n, largest)\n",
        "\n",
        "# The main function to sort an array of given size\n",
        "\n",
        "def heapSort(arr):\n",
        "    n = len(arr)\n",
        "\n",
        " # Build a maxheap.\n",
        " # Since last parent will be at ((n//2)-1) we can start at that location.\n",
        "\n",
        "    for i in range(n // 2 - 1, -1, -1):\n",
        "        heapify(arr, n, i)\n",
        "    print(\"Array somente com Heapify\", arr)\n",
        " # One by one extract elements\n",
        "\n",
        "    for i in range(n - 1, 0, -1):\n",
        "        (arr[i], arr[0]) = (arr[0], arr[i])  # swap\n",
        "        heapify(arr, i, 0)\n",
        "\n",
        "\n",
        "# Driver code to test above\n",
        "\n",
        "arr = [21,12,10,9,1,3,2,5,6,4]\n",
        "heapSort(arr)\n",
        "print('Vetor Ordenado: ', arr)\n",
        "\n",
        "# This code is contributed by Mohit Kumra"
      ],
      "metadata": {
        "colab": {
          "base_uri": "https://localhost:8080/"
        },
        "id": "81SIEZ4pb9e-",
        "outputId": "d8ad9b21-ee89-434e-8054-1239bea4b122"
      },
      "execution_count": null,
      "outputs": [
        {
          "output_type": "stream",
          "name": "stdout",
          "text": [
            "Array somente com Heapify [21, 12, 10, 9, 4, 3, 2, 5, 6, 1]\n",
            "Sorted array is:  [1, 2, 3, 4, 5, 6, 9, 10, 12, 21]\n"
          ]
        }
      ]
    },
    {
      "cell_type": "code",
      "source": [
        "# Counting sort in Python programming\n",
        "\n",
        "\n",
        "def countingSort(array):\n",
        "    size = len(array)\n",
        "    output = [0] * size\n",
        "\n",
        "    # Initialize count array\n",
        "    count = [0] * 10\n",
        "\n",
        "    # Store the count of each elements in count array\n",
        "    for i in range(0, size):\n",
        "        count[array[i]] += 1\n",
        "\n",
        "    # Store the cummulative count\n",
        "    for i in range(1, 10):\n",
        "        count[i] += count[i - 1]\n",
        "\n",
        "    # Find the index of each element of the original array in count array\n",
        "    # place the elements in output array\n",
        "    i = size - 1\n",
        "    while i >= 0:\n",
        "        output[count[array[i]] - 1] = array[i]\n",
        "        count[array[i]] -= 1\n",
        "        i -= 1\n",
        "\n",
        "    # Copy the sorted elements into original array\n",
        "    for i in range(0, size):\n",
        "        array[i] = output[i]\n",
        "\n",
        "\n",
        "data = [4, 2, 2, 8, 3, 3, 1, 1, 2, 2]\n",
        "countingSort(data)\n",
        "print(\"Sorted Array in Ascending Order: \")\n",
        "print(data)"
      ],
      "metadata": {
        "id": "W83z5V47s3h1"
      },
      "execution_count": null,
      "outputs": []
    },
    {
      "cell_type": "code",
      "source": [
        "#K-Way Merge\n",
        "\n",
        "def k_way_merge(lists):\n",
        "    heap = []\n",
        "    result = []\n",
        "\n",
        "    # Adiciona o primeiro elemento de cada lista no heap manualmente\n",
        "    for i, lst in enumerate(lists):\n",
        "        if lst:\n",
        "            heap.append((lst[0], i, 0))\n",
        "\n",
        "    # Transforma a lista em um heap manualmente\n",
        "    n = len(heap)\n",
        "    for i in range(n // 2 - 1, -1, -1):\n",
        "        heapify(heap, n, i)\n",
        "\n",
        "    # Extrai o menor elemento do heap manualmente e adiciona na lista resultante\n",
        "    while heap:\n",
        "        val, lst_idx, elem_idx = heap[0]\n",
        "        result.append(val)\n",
        "\n",
        "        # Remove o menor elemento do heap manualmente\n",
        "        if elem_idx + 1 < len(lists[lst_idx]):\n",
        "            heap[0] = (lists[lst_idx][elem_idx+1], lst_idx, elem_idx+1)\n",
        "            heapify(heap, n, 0)\n",
        "        else:\n",
        "            heap[0] = heap[-1]\n",
        "            n -= 1\n",
        "            heap.pop()\n",
        "            heapify(heap, n, 0)\n",
        "\n",
        "    return result\n",
        "\n",
        "def heapify(heap, n, i):\n",
        "    \"\"\"\n",
        "    Transforma uma lista em um heap.\n",
        "    \"\"\"\n",
        "    smallest = i\n",
        "    left = 2 * i + 1\n",
        "    right = 2 * i + 2\n",
        "\n",
        "    if left < n and heap[left][0] < heap[smallest][0]:\n",
        "        smallest = left\n",
        "\n",
        "    if right < n and heap[right][0] < heap[smallest][0]:\n",
        "        smallest = right\n",
        "\n",
        "    if smallest != i:\n",
        "        heap[i], heap[smallest] = heap[smallest], heap[i]\n",
        "        heapify(heap, n, smallest)"
      ],
      "metadata": {
        "id": "H4eiQamhlDTd"
      },
      "execution_count": null,
      "outputs": []
    },
    {
      "cell_type": "code",
      "source": [
        "#Testando o K-Way Merge\n",
        "\n",
        "lists = [\n",
        "    [1, 3, 5],\n",
        "    [2, 4, 6, 8],\n",
        "    [0, 7],\n",
        "    [-1, 9, 10, 11]\n",
        "]\n",
        "\n",
        "sorted_list = k_way_merge(lists)\n",
        "print(sorted_list)"
      ],
      "metadata": {
        "colab": {
          "base_uri": "https://localhost:8080/"
        },
        "id": "aXBBtcmklMvc",
        "outputId": "e2246510-c0d1-4f4a-df32-cd4621c489dc"
      },
      "execution_count": null,
      "outputs": [
        {
          "output_type": "stream",
          "name": "stdout",
          "text": [
            "[-1, 0, 1, 2, 3, 4, 5, 6, 7, 8, 9, 10, 11]\n"
          ]
        }
      ]
    },
    {
      "cell_type": "code",
      "source": [
        "# Algoritmo KMP\n",
        "\n",
        "def kmp_search(pattern, text):\n",
        "    n = len(text)\n",
        "    m = len(pattern)\n",
        "    border = compute_border(pattern)\n",
        "    i = 0\n",
        "    j = 0\n",
        "    while i < n:\n",
        "        if pattern[j] == text[i]:\n",
        "            i += 1\n",
        "            j += 1\n",
        "        if j == m:\n",
        "            return i - j\n",
        "        elif i < n and pattern[j] != text[i]:\n",
        "            if j != 0:\n",
        "                j = border[j-1]\n",
        "            else:\n",
        "                i += 1\n",
        "    return -1\n",
        "\n",
        "def compute_border(pattern):\n",
        "    m = len(pattern)\n",
        "    border = [0] * m\n",
        "    j = 0\n",
        "    i = 1\n",
        "    while i < m:\n",
        "        if pattern[i] == pattern[j]:\n",
        "            j += 1\n",
        "            border[i] = j\n",
        "            i += 1\n",
        "        elif j > 0:\n",
        "            j = border[j-1]\n",
        "        else:\n",
        "            border[i] = 0\n",
        "            i += 1\n",
        "    return border"
      ],
      "metadata": {
        "id": "JDtiq8hPv2O5"
      },
      "execution_count": null,
      "outputs": []
    },
    {
      "cell_type": "code",
      "source": [
        "# Testando o KMP\n",
        "\n",
        "pattern = \"aba\"\n",
        "text = \"abcacababa\"\n",
        "\n",
        "result = kmp_search(pattern, text)\n",
        "\n",
        "print(result)"
      ],
      "metadata": {
        "colab": {
          "base_uri": "https://localhost:8080/"
        },
        "id": "SDmut1Rsv8R_",
        "outputId": "b3079b26-195a-439a-9374-4f23c0a18caa"
      },
      "execution_count": null,
      "outputs": [
        {
          "output_type": "stream",
          "name": "stdout",
          "text": [
            "5\n"
          ]
        }
      ]
    },
    {
      "cell_type": "code",
      "source": [
        "#Questão 6.44 Udi Mamber adaptada para retornar todas ocorrencias do padrão\n",
        "\n",
        "def kmp(pattern, text):\n",
        "    \"\"\"\n",
        "    Algoritmo KMP para encontrar ocorrências de um padrão em um texto.\n",
        "    \"\"\"\n",
        "    m = len(pattern)\n",
        "    n = len(text)\n",
        "    # computa a função de prefixo do padrão\n",
        "    pi = compute_prefix_function(pattern)\n",
        "    q = 0\n",
        "    occurrences = []\n",
        "    for i in range(n):\n",
        "        # atualiza q baseado na função de prefixo\n",
        "        while q > 0 and pattern[q] != text[i]:\n",
        "            q = pi[q-1]\n",
        "        # incrementa q se o próximo caractere combina com o padrão\n",
        "        if pattern[q] == text[i]:\n",
        "            q += 1\n",
        "        # encontrou uma ocorrência, adiciona na lista\n",
        "        if q == m:\n",
        "            occurrences.append(i-m+1)\n",
        "            q = pi[q-1]\n",
        "    return occurrences\n",
        "\n",
        "def compute_prefix_function(pattern):\n",
        "    \"\"\"\n",
        "    Computa a função de prefixo para o padrão dado.\n",
        "    \"\"\"\n",
        "    m = len(pattern)\n",
        "    pi = [0] * m\n",
        "    k = 0\n",
        "    for q in range(1, m):\n",
        "        # atualiza k baseado na função de prefixo\n",
        "        while k > 0 and pattern[k] != pattern[q]:\n",
        "            k = pi[k-1]\n",
        "        # incrementa k se o próximo caractere combina com o padrão\n",
        "        if pattern[k] == pattern[q]:\n",
        "            k += 1\n",
        "        pi[q] = k\n",
        "    return pi\n",
        "\n",
        "def find_cyclic_shifts(A, B):\n",
        "    \"\"\"\n",
        "    Encontra todos os deslocamentos cíclicos de B em A concatenado com ele mesmo.\n",
        "    \"\"\"\n",
        "    # concatena A com ele mesmo para formar C\n",
        "    C = A + A\n",
        "    # encontra todas as ocorrências de B em C usando o algoritmo KMP\n",
        "    occurrences = kmp(B, C)\n",
        "    # verifica se cada ocorrência cruza a fronteira entre as duas cópias de A em C\n",
        "    shifts = []\n",
        "    for i in occurrences:\n",
        "        if i + len(B) >= len(A):\n",
        "            # encontrou um deslocamento cíclico\n",
        "            shifts.append(i - len(A))\n",
        "    return shifts\n",
        "\n",
        "\n"
      ],
      "metadata": {
        "id": "-BlaBrDzoWiz"
      },
      "execution_count": null,
      "outputs": []
    },
    {
      "cell_type": "code",
      "source": [
        "A = \"abacabadabacaba\"\n",
        "B = \"dabacaba\"\n",
        "shifts = find_cyclic_shifts(A, B)\n",
        "if shifts:\n",
        "    print(\"B é um deslocamento cíclico de A nos seguintes índices:\")\n",
        "    print(shifts)\n",
        "else:\n",
        "    print(\"B não é um deslocamento cíclico de A.\")"
      ],
      "metadata": {
        "colab": {
          "base_uri": "https://localhost:8080/"
        },
        "id": "48-ngnsMo07r",
        "outputId": "c7bc392d-a20c-4a94-bcc0-1964d74a6af7"
      },
      "execution_count": null,
      "outputs": [
        {
          "output_type": "stream",
          "name": "stdout",
          "text": [
            "B é um deslocamento cíclico de A nos seguintes índices:\n",
            "[-8, 7]\n"
          ]
        }
      ]
    },
    {
      "cell_type": "code",
      "source": [
        "#questao 6.44 Mamber original\n",
        "\n",
        "def kmp(pattern, text):\n",
        "    \"\"\"\n",
        "    Algoritmo Knuth-Morris-Pratt para encontrar ocorrências de um padrão em um texto.\n",
        "    Retorna o índice da primeira ocorrência do padrão em texto, ou -1 se não encontrado.\n",
        "    \"\"\"\n",
        "    n = len(text)\n",
        "    m = len(pattern)\n",
        "    if m == 0:\n",
        "        return 0\n",
        "    pi = compute_prefix_function(pattern)\n",
        "    q = 0\n",
        "    for i in range(n):\n",
        "        while q > 0 and pattern[q] != text[i]:\n",
        "            q = pi[q-1]\n",
        "        if pattern[q] == text[i]:\n",
        "            q = q + 1\n",
        "        if q == m:\n",
        "            return i - m + 1\n",
        "            # return True # se quiser retornar apenas um booleano\n",
        "            # return [i - m + 1] # se quiser retornar uma lista de ocorrências\n",
        "            # (usado na função is_cyclic_shift abaixo)\n",
        "            # o índice i - m + 1 é o índice da primeira ocorrência de B em C\n",
        "            q = pi[q-1]\n",
        "    return -1\n",
        "    # return False # se quiser retornar apenas um booleano\n",
        "    # return [] # se quiser retornar uma lista vazia de ocorrências\n",
        "\n",
        "def is_cyclic_shift(A, B):\n",
        "    \"\"\"\n",
        "    Verifica se B é um deslocamento cíclico de A concatenado com ele mesmo.\n",
        "    Retorna o índice da primeira ocorrência de B em C, ou -1 se não encontrado.\n",
        "    \"\"\"\n",
        "    # concatena A com ele mesmo para formar C\n",
        "    C = A + A\n",
        "    print(C)\n",
        "    # encontra a primeira ocorrência de B em C usando o algoritmo KMP\n",
        "    return kmp(B, C)"
      ],
      "metadata": {
        "id": "Z7k44p_0r78z"
      },
      "execution_count": null,
      "outputs": []
    },
    {
      "cell_type": "code",
      "source": [
        "A = \"abacabadabacaba\"\n",
        "B = \"adabacaba\"\n",
        "index = is_cyclic_shift(A, B)\n",
        "if index >= 0:\n",
        "    print(\"B ocorre em A como um deslocamento cíclico na posição\", index)\n",
        "else:\n",
        "    print(\"B não ocorre em A como um deslocamento cíclico.\")"
      ],
      "metadata": {
        "colab": {
          "base_uri": "https://localhost:8080/"
        },
        "id": "ZEjiwukqr_ZT",
        "outputId": "2fa677b9-f7a8-48cd-d2a0-a51caaa32bec"
      },
      "execution_count": null,
      "outputs": [
        {
          "output_type": "stream",
          "name": "stdout",
          "text": [
            "abacabadabacabaabacabadabacaba\n",
            "B ocorre em A como um deslocamento cíclico na posição 6\n"
          ]
        }
      ]
    },
    {
      "cell_type": "code",
      "source": [
        "# Questão 6.45 com poucas alteraçções - busca de padrão em strings binárias\n",
        "\n",
        "# Constrói a tabela next para um padrão binário P\n",
        "# que é incompatível com o caractere \"1\" na última posição\n",
        "def construir_tabela_next(P):\n",
        "    m = len(P)\n",
        "    next = [-1] + [0] * (m - 1)  # Inicializa next com -1 e zeros\n",
        "\n",
        "    i = 0\n",
        "    j = -1\n",
        "\n",
        "    # Calcula os valores de next\n",
        "    while i < m - 1:\n",
        "        if j == -1 or P[i] == P[j]:\n",
        "            i += 1\n",
        "            j += 1\n",
        "            # Se o caractere em i não for \"1\",\n",
        "            # atualiza next[i] como j\n",
        "            if P[i] != '1':\n",
        "                next[i] = j\n",
        "            # Caso contrário, atualiza next[i]\n",
        "            # com o valor de next[j]\n",
        "            else:\n",
        "                next[i] = next[j]\n",
        "        # Se os caracteres em i e j são diferentes,\n",
        "        # atualiza j com o valor de next[j]\n",
        "        else:\n",
        "            j = next[j]\n",
        "\n",
        "    return next\n",
        "\n",
        "\n",
        "# Procura correspondências do padrão binário P\n",
        "# em uma string binária de texto A\n",
        "def encontrar_padraob(A, P):\n",
        "    n = len(A)\n",
        "    m = len(P)\n",
        "\n",
        "    # Constrói a tabela next para o padrão P\n",
        "    next = construir_tabela_next(P)\n",
        "\n",
        "    i = 0\n",
        "    j = 0\n",
        "\n",
        "    # Procura correspondências do padrão P em A\n",
        "    while i < n:\n",
        "        if A[i] == P[j]:\n",
        "            i += 1\n",
        "            j += 1\n",
        "            # Se j for igual a m, encontrou uma correspondência\n",
        "            if j == m:\n",
        "                print(\"Padrão encontrado em posição\", i - j)\n",
        "                j = next[j - 1]\n",
        "        # Se os caracteres em i e j são diferentes,\n",
        "        # atualiza j com o valor de next[j]\n",
        "        else:\n",
        "            # Se o caractere em j for \"1\", pula para o próximo caractere em A\n",
        "            if j > 0 and P[j] == '1':\n",
        "                j = next[j - 1]\n",
        "            # Caso contrário, incrementa i e continua a procurar\n",
        "            else:\n",
        "                i += 1\n",
        "                j = next[j]"
      ],
      "metadata": {
        "id": "7oOyFXU5etLs"
      },
      "execution_count": null,
      "outputs": []
    },
    {
      "cell_type": "code",
      "source": [
        "A = \"0101010110101101010110010110\"\n",
        "P = \"1101010110\"\n",
        "\n",
        "encontrar_padraob(A, P)"
      ],
      "metadata": {
        "id": "EqoTtkvKe1X2",
        "colab": {
          "base_uri": "https://localhost:8080/"
        },
        "outputId": "f41ba6d4-3cd8-4953-e94a-6a334d32c616"
      },
      "execution_count": null,
      "outputs": [
        {
          "output_type": "stream",
          "name": "stdout",
          "text": [
            "Padrão encontrado em posição 0\n",
            "Padrão encontrado em posição 12\n"
          ]
        }
      ]
    },
    {
      "cell_type": "code",
      "source": [
        "#Interseção de segmentos de retas: Melhor caso\n",
        "\n",
        "import random\n",
        "from sys import stderr\n",
        "from collections import namedtuple\n",
        "\n",
        "K = 100\n",
        "Point = namedtuple('Point', 'x y')\n",
        "Interval = namedtuple('Interval', 'A B')\n",
        "\n",
        "print(\"Give the quantity of segments: \", file=stderr, end=\"\")\n",
        "size = int(input())\n",
        "\n",
        "\n",
        "def gen_lines(): #Neste caso estou gerando os segmentos para não ficar\n",
        "                  #introduzindo dados constantemente para os testes\n",
        "  intervals = []\n",
        "\n",
        "  length = random.randint(K/2, K)\n",
        "\n",
        "  v_y_a = random.randint(1, K)\n",
        "  v_y_b = v_y_a + length\n",
        "\n",
        "  h_x_a = random.randint(1, K)\n",
        "  h_x_b = h_x_a + length\n",
        "\n",
        "  h_y_a = random.randint(v_y_a, v_y_b)\n",
        "  h_y_b = h_y_a\n",
        "\n",
        "  A = Point(h_x_a, h_y_a)\n",
        "  B = Point(h_x_b, h_y_b)\n",
        "\n",
        "  intervals.append(Interval(A, B)) # horizontal\n",
        "\n",
        "  for i in range(size-1): # vertical\n",
        "    x_a = random.randint(h_x_a, h_x_b)\n",
        "    x_b = x_a\n",
        "\n",
        "    A = Point(x_a, v_y_a)\n",
        "    B = Point(x_b, v_y_b)\n",
        "\n",
        "    intervals.append(Interval(A, B))\n",
        "\n",
        "    print(len(intervals), file=stderr)\n",
        "  return intervals\n",
        "\n",
        "\n",
        "intervals = gen_lines()\n",
        "for i in intervals:\n",
        "  print(f\"{i.A.x} {i.A.y} {i.B.x} {i.B.y}\")"
      ],
      "metadata": {
        "id": "w4vPLQQQewBG"
      },
      "execution_count": null,
      "outputs": []
    },
    {
      "cell_type": "code",
      "source": [
        "#algoritmo k-digitos\n",
        "\n"
      ],
      "metadata": {
        "id": "CZMbX4NmKPZQ"
      },
      "execution_count": null,
      "outputs": []
    },
    {
      "cell_type": "code",
      "source": [
        "#Lista1 2022.2 PAA\n",
        "#5 questão recursiva\n",
        "\n",
        "def potwo(n):\n",
        "  if n == 0:\n",
        "    return 1\n",
        "  else:\n",
        "    return potwo(n-1) + potwo(n-1)"
      ],
      "metadata": {
        "id": "f7qTpF5RmrWa"
      },
      "execution_count": null,
      "outputs": []
    },
    {
      "cell_type": "code",
      "source": [
        "potwo(25)\n"
      ],
      "metadata": {
        "id": "noWkcijum7yr"
      },
      "execution_count": null,
      "outputs": []
    },
    {
      "cell_type": "code",
      "source": [
        "#Lista1 2022.2 PAA\n",
        "#5 questão iterativa\n",
        "n = 25;\n",
        "valor = 1\n",
        "if n == 0:\n",
        "  print(1)\n",
        "else:\n",
        "  for i in range(n):\n",
        "    valor = 2*valor\n",
        "print(valor)"
      ],
      "metadata": {
        "id": "qCE1Plvxr8hf"
      },
      "execution_count": null,
      "outputs": []
    },
    {
      "cell_type": "code",
      "source": [
        "#Lista1 2022.2 PAA\n",
        "#6 questão\n",
        "def max(a, b):\n",
        "  if (a > b):\n",
        "    return a\n",
        "  else:\n",
        "    return b\n",
        "\n",
        "max(7,5)\n"
      ],
      "metadata": {
        "id": "XMjIReNEH9kG"
      },
      "execution_count": null,
      "outputs": []
    },
    {
      "cell_type": "code",
      "source": [
        "# Lista 2 Q1\n",
        "\n",
        "def heapMax(vetorHeap, n, i):\n",
        "    maior = i\n",
        "    l = 2 * i + 1\n",
        "    r = 2 * i + 2\n",
        "\n",
        "    if l < n and vetorHeap[i] < vetorHeap[l]:\n",
        "        maior = l\n",
        "\n",
        "    if r < n and vetorHeap[maior] < vetorHeap[r]:\n",
        "        maior = r\n",
        "\n",
        "    if maior != i:\n",
        "        (vetorHeap[i], vetorHeap[maior]) = (vetorHeap[maior], vetorHeap[i])  #Troca\n",
        "\n",
        "        heapMax(vetorHeap, n, maior)\n",
        "\n",
        "\n",
        "def heapSort(vetorHeap):\n",
        "    n = len(vetorHeap)\n",
        "\n",
        "\n",
        "    for i in range(n // 2 - 1, -1, -1):\n",
        "        heapMax(vetorHeap, n, i)\n",
        "    #print(\"Vetor somente com HeapMax\", vetorHeap)\n",
        "\n",
        "    for i in range(n - 1, 0, -1):\n",
        "        (vetorHeap[i], vetorHeap[0]) = (vetorHeap[0], vetorHeap[i])  #Troca\n",
        "        heapMax(vetorHeap, i, 0)\n",
        "\n",
        "A = [2,4,1,6]\n",
        "B = [5,3,10,1]\n",
        "\n",
        "heapSort(A)\n",
        "print(\"Vetor A ordenado com heapsort: \", A)\n",
        "\n",
        "heapSort(B)\n",
        "print(\"Vetor B ordenado com heapsort: \", B)\n",
        "\n",
        "i = 0\n",
        "j = 0\n",
        "k = 0\n",
        "\n",
        "sizeA = len(A)\n",
        "sizeB = len(B)\n",
        "U = [-1] * (sizeA+sizeB)\n",
        "difSim = [-1] * (sizeA+sizeB)\n",
        "print (\"\\nVetor auxiliar para U: \", U)\n",
        "print (\"Vetor auxiliar para difSim: \", difSim)\n",
        "\n",
        "n = sizeA-1\n",
        "#print (n)\n",
        "m = sizeB-1\n",
        "#print (m)\n",
        "#print (k)\n",
        "\n",
        "while (i <= n and j <= m):\n",
        "    if A[i] < B[j]:\n",
        "      U[k] = A[i]\n",
        "      difSim[k] = A[i]\n",
        "      k = k+1\n",
        "      i = i+1\n",
        "    elif(A[i] == B[j]):\n",
        "      U[k] = A[i]\n",
        "      k = k+1\n",
        "      i = i+1\n",
        "      j = j+1\n",
        "    else:\n",
        "      U[k] = B[j]\n",
        "      difSim[k] = B[j]\n",
        "      k = k+1\n",
        "      j = j+1\n",
        "\n",
        "#print(i)\n",
        "#print(j)\n",
        "\n",
        "while (i <= n):\n",
        "  U[k] = A[i]\n",
        "  difSim[k] = A[i]\n",
        "  k = k+1\n",
        "  i = i+1\n",
        "\n",
        "while (j <= m):\n",
        "  U[k] = B[j]\n",
        "  difSim[k] = B[j]\n",
        "  k = k+1\n",
        "  j = i+1\n",
        "\n",
        "print(\"\\nUnião: \", U)\n",
        "#for i in range(len(U)):\n",
        "  #if (U[i] != -1):\n",
        "    #print(U[i])                  # Os -1's na lista são os valores que não fazem parte do conjunto em questão\n",
        "                                  # Optei por não remover pois a função que eu sei e remove elemento de lista\n",
        "                                  # não é uma boa opção pra usar nesses casos, me gerava bugs\n",
        "                                  # desnecessários, mas deixei uma segunda opção na hora da impressão q contorna isso\n",
        "\n",
        "print(\"\\nDiferença Simétrica: \", difSim)\n",
        "#for i in range(len(U)):\n",
        "  #if (difSim[i] != -1):   #Segunda opção caso queira imprimir sem os -1, professora, basta comentar os prints atuais e\n",
        "    #print(difSim[i])       # descomentar as 3 linhas abaixo do print pra união e dif simetrica.\n"
      ],
      "metadata": {
        "id": "9V7z3vKLFxXt"
      },
      "execution_count": null,
      "outputs": []
    },
    {
      "cell_type": "code",
      "source": [
        "#Q2 da lista\n",
        "# Mesclar duas sublistas ordenadas `A[low … mid]` e `A[mid+1 … high]`\n",
        "def merge(A, aux, low, mid, high):\n",
        "\n",
        "    k = i = low\n",
        "    j = mid + 1\n",
        "    inversionCount = 0\n",
        "\n",
        "    # enquanto houver elementos nas execuções esquerda e direita\n",
        "    while i <= mid and j <= high:\n",
        "        if A[i] <= A[j]:\n",
        "            aux[k] = A[i]\n",
        "            i = i + 1\n",
        "        else:\n",
        "            aux[k] = A[j]\n",
        "            j = j + 1\n",
        "            inversionCount += (mid - i + 1)        # NOTA\n",
        "\n",
        "        k = k + 1\n",
        "\n",
        "    # copia os elementos restantes\n",
        "    while i <= mid:\n",
        "        aux[k] = A[i]\n",
        "        k = k + 1\n",
        "        i = i + 1\n",
        "\n",
        "    ''' no need to copy the second half (since the remaining items\n",
        "        are already in their correct position in the temporary array) '''\n",
        "\n",
        "    # copia de volta para a lista original para refletir a ordem ordenada\n",
        "    for i in range(low, high + 1):\n",
        "        A[i] = aux[i]\n",
        "\n",
        "    return inversionCount\n",
        "\n",
        "\n",
        "# Classifica a lista `A[low…high]` usando a lista auxiliar `aux`\n",
        "def mergesort(A, aux, low, high):\n",
        "\n",
        "    # caso básico\n",
        "    if high <= low:        # se o tamanho da execução <= 1\n",
        "        return 0\n",
        "\n",
        "    # encontrar o ponto médio\n",
        "    mid = low + ((high - low) >> 1)\n",
        "    inversionCount = 0\n",
        "\n",
        "    # divide recursivamentemente as corridas em duas metades até o tamanho da corrida <= 1,\n",
        "    # então os mescla e retorna a cadeia de chamadas\n",
        "\n",
        "    inversionCount += mergesort(A, aux, low, mid)       # dividir/mesclar metade esquerda\n",
        "    inversionCount += mergesort(A, aux, mid + 1, high)  # dividir/mesclar metade direita\n",
        "    inversionCount += merge(A, aux, low, mid, high)     # mescla as duas meias corridas\n",
        "\n",
        "    return inversionCount\n",
        "\n",
        "\n",
        "if __name__ == '__main__':\n",
        "\n",
        "    A = [1, 9, 6, 4, 5]\n",
        "    aux = A.copy()\n",
        "\n",
        "    # obtém a contagem de inversão executando a classificação de mesclagem em uma lista\n",
        "    print(\"Inversion count is\", mergesort(A, aux, 0, len(A) - 1))\n"
      ],
      "metadata": {
        "colab": {
          "base_uri": "https://localhost:8080/"
        },
        "id": "KTx9H9qBl9E_",
        "outputId": "ac5aea54-a53d-4c9a-b33c-55228aa0afd1"
      },
      "execution_count": null,
      "outputs": [
        {
          "output_type": "stream",
          "name": "stdout",
          "text": [
            "Inversion count is 5\n"
          ]
        }
      ]
    },
    {
      "cell_type": "code",
      "source": [
        "#Outra forma da Q2 AJUSTAR\n",
        "\n",
        "global contInver\n",
        "\n",
        "def mergeSort(lista):\n",
        "    contInver = 0\n",
        "    print(\"Dividindo lista \",lista)\n",
        "    if len(lista)>1:\n",
        "        mid = len(lista)//2\n",
        "        esq = lista[:mid]\n",
        "        dir = lista[mid:]\n",
        "\n",
        "        contInver += mergeSort(esq)\n",
        "        contInver += mergeSort(dir)\n",
        "\n",
        "        i=0\n",
        "        j=0\n",
        "        k=0\n",
        "        while i < len(esq) and j < len(dir):\n",
        "            if esq[i] < dir[j]:\n",
        "                lista[k]=esq[i]\n",
        "                i=i+1\n",
        "            else:\n",
        "                lista[k]=dir[j]\n",
        "                j=j+1\n",
        "            k=k+1\n",
        "\n",
        "        while i < len(esq):\n",
        "            lista[k]=esq[i]\n",
        "            i=i+1\n",
        "            k=k+1\n",
        "\n",
        "        while j < len(dir):\n",
        "            lista[k]=dir[j]\n",
        "            j=j+1\n",
        "            k=k+1\n",
        "    print(\"Merging \",lista)\n",
        "    return contInver\n",
        "\n",
        "lista = [1,3,4,2]\n",
        "print(lista)\n",
        "print(\"inversoes: \", mergeSort(lista))"
      ],
      "metadata": {
        "id": "ou3JXf7jmrAv"
      },
      "execution_count": null,
      "outputs": []
    },
    {
      "cell_type": "code",
      "source": [
        "#Q3, usando quickSort Ajustar\n",
        "\n",
        "from collections import namedtuple\n",
        "\n",
        "registros = [(2023-2000,  'M', 'Kabal',), (2023-2000, 'F', 'Jade'), (2023-2000, 'F', 'Sindel'), (2023-2001, 'M', 'Kung'),\n",
        "             (2023-2002, 'F', 'Cassie')]\n",
        "#print(registros[4][0])\n",
        "#sizeReg = len(registros)\n",
        "#print(sizeReg)\n",
        "print(\"\\n\", registros)\n",
        "#print(registros[1])\n",
        "\n",
        "def quickSort(registros,qesq,qdir):\n",
        "   if qesq<qdir:\n",
        "       pos = qparticao(registros,qesq,qdir)\n",
        "       quickSort(registros,qesq,pos-1)\n",
        "       quickSort(registros,pos+1,qdir)\n",
        "\n",
        "def qparticao(registros,qesq,qdir):\n",
        "   pivo = registros[qesq]\n",
        "   lmark = qesq+1\n",
        "   rmark = qdir\n",
        "\n",
        "   done = False\n",
        "   while not done:\n",
        "\n",
        "       while lmark <= rmark and registros[lmark] <= pivo:\n",
        "           lmark = lmark + 1\n",
        "\n",
        "       while registros[rmark] >= pivo and rmark >= lmark:\n",
        "           rmark = rmark -1\n",
        "\n",
        "       if rmark < lmark:\n",
        "           done = True\n",
        "       else:\n",
        "           temp = registros[lmark]\n",
        "           registros[lmark] = registros[rmark]\n",
        "           registros[rmark] = temp\n",
        "\n",
        "   temp = registros[qesq]\n",
        "   registros[qesq] = registros[rmark]\n",
        "   registros[rmark] = temp\n",
        "\n",
        "   return rmark\n",
        "\n",
        "#Testa o Algoritmo\n",
        "#qX = [13,54,26,93,17,77,31,44,55,20]\n",
        "#quickSort(qX, 0, len(qX)-1)\n",
        "#print(qX)\n",
        "\n",
        "quickSort(registros, 0, len(registros)-1)\n",
        "print(\"\\n\", registros)"
      ],
      "metadata": {
        "id": "ACv5d9pdwCWB"
      },
      "execution_count": null,
      "outputs": []
    },
    {
      "cell_type": "markdown",
      "source": [],
      "metadata": {
        "id": "cCN2-5ztF5XC"
      }
    },
    {
      "cell_type": "code",
      "source": [
        "#Q3 usando quickSort\n",
        "\n",
        "from collections import Counter\n",
        "\n",
        "def quicksort(array, reverse=False):\n",
        "    if len(array) <= 1:\n",
        "        return array\n",
        "    ( _, pv ) = array[0]\n",
        "    iguais = [ (k,v) for k,v in array if v == pv ]\n",
        "    maiores = quicksort([ (k,v) for k,v in array if v > pv ],reverse)\n",
        "    menores = quicksort([ (k,v) for k,v in array if v < pv ],reverse)\n",
        "    if reverse == True:\n",
        "        return maiores + iguais + menores\n",
        "    else:\n",
        "        return menores + iguais + maiores\n",
        "\n",
        "\n",
        "def ordenar(dic, reverse=False ):\n",
        "    return quicksort( [ (k,v) for k,v in dic.items() ], reverse)\n",
        "\n",
        "registros = [(20, 'Kabal', 'M'), (20, 'Jade', 'F'), (21, 'Kung', 'M'), (19, 'Liu', 'F')]\n",
        "print(registros)\n",
        "print(registros[1])\n",
        "\n",
        "#print(\"Crescente: \", ordenar(registros, reverse=False)\n",
        "#print(\"Decrescente: \", ordenar(registros, reverse=True)\n"
      ],
      "metadata": {
        "id": "Yzb6eCk38Wd0"
      },
      "execution_count": null,
      "outputs": []
    },
    {
      "cell_type": "code",
      "source": [
        "#q4 Lista2\n",
        "\n",
        "#Outra forma de mergesort\n",
        "\n",
        "def mergeSort(lista):\n",
        "    if len(lista)>1:\n",
        "        mid = len(lista)//2\n",
        "        esq = lista[:mid]\n",
        "        dir = lista[mid:]\n",
        "\n",
        "        mergeSort(esq)\n",
        "        mergeSort(dir)\n",
        "\n",
        "        i=0\n",
        "        j=0\n",
        "        k=0\n",
        "        while i < len(esq) and j < len(dir):\n",
        "            if esq[i] < dir[j]:\n",
        "                lista[k]=esq[i]\n",
        "                i=i+1\n",
        "            else:\n",
        "                lista[k]=dir[j]\n",
        "                j=j+1\n",
        "            k=k+1\n",
        "\n",
        "        while i < len(esq):\n",
        "            lista[k]=esq[i]\n",
        "            i=i+1\n",
        "            k=k+1\n",
        "\n",
        "        while j < len(dir):\n",
        "            lista[k]=dir[j]\n",
        "            j=j+1\n",
        "            k=k+1\n",
        "\n",
        "lista = [2,4,8,4,5,3]\n",
        "mergeSort(lista)\n",
        "print(lista)\n",
        "custoV = [0] * (len(lista)-1)\n",
        "print(custoV)\n",
        "for i in range (len(lista)-1):\n",
        "  custo = lista[i+1] + lista[i]\n",
        "  print(\"\\n  \", custo, \"\\n\")\n",
        "  lista[i+1] = custo\n",
        "  custoV[i] = custo\n",
        "  mergeSort(lista)\n",
        "print(custoV)\n",
        "\n",
        "custoTotal = 0\n",
        "for i in range(len(custoV)):\n",
        "  custoTotal = custoTotal + custoV[i]\n",
        "print(custoTotal)"
      ],
      "metadata": {
        "id": "xKs-jfGLJBk9"
      },
      "execution_count": null,
      "outputs": []
    },
    {
      "cell_type": "code",
      "source": [
        "#Q7 horas 0:56\n",
        "#Q8 horas 1:05\n",
        "#Q9 Horas 1:12"
      ],
      "metadata": {
        "id": "5kt2tTmsO9Vw"
      },
      "execution_count": null,
      "outputs": []
    },
    {
      "cell_type": "code",
      "source": [
        "# ajustar para Q7\n",
        "\n",
        "# Python3 program for Naive Pattern\n",
        "# Searching algorithm\n",
        "\n",
        "\n",
        "def search(pat, txt):\n",
        "    M = len(pat)\n",
        "    N = len(txt)\n",
        "\n",
        "    # A loop to slide pat[] one by one */\n",
        "    for i in range(N - M + 1):\n",
        "        j = 0\n",
        "\n",
        "        # For current index i, check\n",
        "        # for pattern match */\n",
        "        while(j < M):\n",
        "            if (txt[i + j] != pat[j]):\n",
        "                break\n",
        "            j += 1\n",
        "\n",
        "        if (j == M):\n",
        "            print(\"Pattern found at index \", i)\n",
        "\n",
        "\n",
        "# Driver's Code\n",
        "if __name__ == '__main__':\n",
        "    txt = \"AABAACAADAABAAABAA\"\n",
        "    pat = \"AABA\"\n",
        "\n",
        "    # Function call\n",
        "    search(pat, txt)\n",
        "\n",
        "# This code is contributed\n",
        "# by PrinciRaj1992"
      ],
      "metadata": {
        "id": "C_vLtv_frYl3"
      },
      "execution_count": null,
      "outputs": []
    },
    {
      "cell_type": "code",
      "source": [
        "# Python3 program for KMP Algorithm\n",
        "def KMPSearch(pat, txt):\n",
        "    M = len(pat)\n",
        "    N = len(txt)\n",
        "\n",
        "    # create lps[] that will hold the longest prefix suffix\n",
        "    # values for pattern\n",
        "    lps = [0]*M\n",
        "    j = 0  # index for pat[]\n",
        "\n",
        "    # Preprocess the pattern (calculate lps[] array)\n",
        "    computeLPSArray(pat, M, lps)\n",
        "\n",
        "    i = 0  # index for txt[]\n",
        "    while (N - i) >= (M - j):\n",
        "        if pat[j] == txt[i]:\n",
        "            i += 1\n",
        "            j += 1\n",
        "\n",
        "        if j == M:\n",
        "            print(\"Found pattern at index \" + str(i-j))\n",
        "            j = lps[j-1]\n",
        "\n",
        "        # mismatch after j matches\n",
        "        elif i < N and pat[j] != txt[i]:\n",
        "            # Do not match lps[0..lps[j-1]] characters,\n",
        "            # they will match anyway\n",
        "            if j != 0:\n",
        "                j = lps[j-1]\n",
        "            else:\n",
        "                i += 1\n",
        "\n",
        "\n",
        "def computeLPSArray(pat, M, lps):\n",
        "    len = 0  # length of the previous longest prefix suffix\n",
        "\n",
        "    lps[0] = 0 # lps[0] is always 0\n",
        "    i = 1\n",
        "\n",
        "    # the loop calculates lps[i] for i = 1 to M-1\n",
        "    while i < M:\n",
        "        if pat[i] == pat[len]:\n",
        "            len += 1\n",
        "            lps[i] = len\n",
        "            i += 1\n",
        "        else:\n",
        "            # This is tricky. Consider the example.\n",
        "            # AAACAAAA and i = 7. The idea is similar\n",
        "            # to search step.\n",
        "            if len != 0:\n",
        "                len = lps[len-1]\n",
        "\n",
        "                # Also, note that we do not increment i here\n",
        "            else:\n",
        "                lps[i] = 0\n",
        "                i += 1\n",
        "\n",
        "\n",
        "txt = \"ABABDABACDABABCABAB\"\n",
        "pat = \"ABA\"\n",
        "KMPSearch(pat, txt)\n",
        "\n",
        "# This code is contributed by Bhavya Jain"
      ],
      "metadata": {
        "id": "iliyQw9UrzmW"
      },
      "execution_count": null,
      "outputs": []
    },
    {
      "cell_type": "code",
      "source": [
        "#Q3, Adaptando o quickSort\n",
        "\n",
        "\n",
        "registros = [(2023-2000,  'M', 'Kabal',), (2023-2000, 'F', 'Jade'), (2023-2001, 'M', 'Kung'), (2023-2000, 'F', 'Sindel'),\n",
        "             (2023-2002, 'F', 'Cassie')]\n",
        "\n",
        "#print(registros[4][0])\n",
        "#sizeReg = len(registros)\n",
        "#print(sizeReg)\n",
        "print(\"\\n\", registros)\n",
        "#print(registros[1])\n",
        "\n",
        "def quickSort(registros,qesq,qdir):\n",
        "   if qesq<qdir:\n",
        "       pos = qparticao(registros,qesq,qdir)\n",
        "       quickSort(registros,qesq,pos-1)\n",
        "       quickSort(registros,pos+1,qdir)\n",
        "\n",
        "def qparticao(registros,qesq,qdir):\n",
        "   pivo = registros[qesq]\n",
        "   lmark = qesq+1\n",
        "   rmark = qdir\n",
        "\n",
        "   done = False\n",
        "   while not done:\n",
        "\n",
        "       while lmark <= rmark and registros[lmark] <= pivo and compara_registro(registros[i], pivo) <= 0:\n",
        "           lmark = lmark + 1\n",
        "\n",
        "       while registros[rmark] >= pivo and rmark >= lmark and compara_registro(registros[j], pivo) >= 0:\n",
        "           rmark = rmark -1\n",
        "\n",
        "       if rmark < lmark:\n",
        "           done = True\n",
        "       else:\n",
        "           temp = registros[lmark]\n",
        "           registros[lmark] = registros[rmark]\n",
        "           registros[rmark] = temp\n",
        "\n",
        "   temp = registros[qesq]\n",
        "   registros[qesq] = registros[rmark]\n",
        "   registros[rmark] = temp\n",
        "\n",
        "   return rmark\n",
        "\n",
        "def compara_registro(ind1, ind2):\n",
        "    if ind1[1] < ind2[1]:\n",
        "        return -1\n",
        "    elif ind1[1] > ind2[1]:\n",
        "        return 1\n",
        "    else:\n",
        "        # Em caso de empate de idade, ordena pelo gênero\n",
        "        if ind1[1] == ind2[1] and ind1[2] == \"F\" and ind2[2] != \"F\":\n",
        "            return -1\n",
        "        elif ind1[1] == ind2[1] and ind1[2] == \"M\" and ind2[2] != \"M\":\n",
        "            return 1\n",
        "        else:\n",
        "            return 0\n",
        "\n",
        "quickSort(registros, 0, len(registros)-1)\n",
        "print(\"\\n\", registros)"
      ],
      "metadata": {
        "id": "Dr6RY__63wwD"
      },
      "execution_count": null,
      "outputs": []
    },
    {
      "cell_type": "code",
      "source": [
        "registros = [(23,  'M', 'Kabal',), (23, 'F', 'Jade'), (22, 'M', 'Kung'), (23, 'F', 'Sindel'),\n",
        "             (21, 'F', 'Cassie')]\n",
        "\n",
        "def quickSortAdapt(vetor):\n",
        "    if len(vetor) <= 1:\n",
        "        return vetor\n",
        "\n",
        "    # Escolhe o pivô como o último elemento do vetor\n",
        "    pivot = vetor[-1]\n",
        "\n",
        "    # Divide o vetor em duas partições\n",
        "    i = 0\n",
        "    j = len(vetor)//2\n",
        "    while i <= j:\n",
        "        # Encontra o próximo elemento a esquerda do pivô que precisa ser trocado\n",
        "        while i <= j and compara_registro(vetor[i], pivot) <= 0:\n",
        "            i += 1\n",
        "        # Encontra o próximo elemento a direita do pivô que precisa ser trocado\n",
        "        while i <= j and compara_registro(vetor[j], pivot) >= 0:\n",
        "            j -= 1\n",
        "\n",
        "        if i < j:\n",
        "            vetor[i], vetor[j] = vetor[j], vetor[i]   # troca se ainda houver elementos p/ serem trocados\n",
        "\n",
        "    # Coloca o pivô na posição correta\n",
        "    if compara_registro(vetor[i], pivot) > 0:\n",
        "        vetor[i], vetor[-1] = vetor[-1], vetor[i]\n",
        "\n",
        "    # Ordena recursivamente as duas partições\n",
        "    return quickSortAdapt(vetor[:i]) + [pivot] + quickSortAdapt(vetor[i+1:])\n",
        "\n",
        "def compara_registro(ind1, ind2):\n",
        "    if ind1[1] < ind2[1]:\n",
        "        return -1\n",
        "    elif ind1[1] > ind2[1]:\n",
        "        return 1\n",
        "    else:\n",
        "        # Em caso de empate de idade, ordena pelo gênero\n",
        "        if ind1[1] == ind2[1] and ind1[2] == \"F\" and ind2[2] != \"F\":\n",
        "            return -1\n",
        "        elif ind1[1] == ind2[1] and ind1[2] == \"M\" and ind2[2] != \"M\":\n",
        "            return 1\n",
        "        else:\n",
        "            return 0\n",
        "quickSortAdapt(registros)\n",
        "print(registros)"
      ],
      "metadata": {
        "colab": {
          "base_uri": "https://localhost:8080/"
        },
        "id": "tzmFm4kA8YL8",
        "outputId": "edc6091b-a5b8-46ac-a03c-40691964e2cc"
      },
      "execution_count": null,
      "outputs": [
        {
          "output_type": "stream",
          "name": "stdout",
          "text": [
            "[(21, 'F', 'Cassie'), (23, 'F', 'Jade'), (22, 'M', 'Kung'), (23, 'F', 'Sindel'), (23, 'M', 'Kabal')]\n"
          ]
        }
      ]
    },
    {
      "cell_type": "code",
      "source": [
        "quicksort(registros, inicio, fim):\n",
        "    se inicio < fim:\n",
        "        pivô = escolherPivô(registros, inicio, fim)\n",
        "        pivôIndex = particionar(registros, inicio, fim, pivô)\n",
        "        quicksort(registros, inicio, pivôIndex - 1)\n",
        "        quicksort(registros, pivôIndex + 1, fim)\n",
        "\n",
        "particionar(registros, inicio, fim, pivô):\n",
        "    pivôIdade = calcularIdade(pivô)\n",
        "    i = inicio - 1\n",
        "    j = fim + 1\n",
        "    para cada registro de índice k de inicio até fim, exceto o pivô:\n",
        "        idadeK = calcularIdade(registros[k])\n",
        "        se idadeK <= pivôIdade:\n",
        "            i = i + 1\n",
        "            trocar(registros, i, k)\n",
        "    para cada registro de índice k de fim até inicio, exceto o pivô:\n",
        "        idadeK = calcularIdade(registros[k])\n",
        "        se idadeK >= pivôIdade:\n",
        "            j = j - 1\n",
        "            trocar(registros, j, k)\n",
        "    para cada registro de índice k de i + 1 até j - 1:\n",
        "        idadeK = calcularIdade(registros[k])\n",
        "        se idadeK == pivôIdade:\n",
        "            generoK = registros[k].genero\n",
        "            se generoK == \"F\":\n",
        "                trocar(registros, i + 1, k)\n",
        "                i = i + 1\n",
        "            senão se generoK == \"M\":\n",
        "                trocar(registros, j - 1, k)\n",
        "                j = j - 1\n",
        "    return (i + j) // 2\n",
        "\n",
        "calcularIdade(registro):\n",
        "    idade = anoAtual - registro.anoDeNascimento\n",
        "    retornar idade\n",
        "\n",
        "escolherPivô(registros, inicio, fim):\n",
        "    pivôIndex = (inicio + fim) // 2\n",
        "    retornar registros[pivôIndex]\n",
        "\n",
        "trocar(registros, i, j):\n",
        "    temp = registros[i]\n",
        "    registros[i] = registros[j]\n",
        "    registros[j] = temp"
      ],
      "metadata": {
        "id": "PjzGp6I4DMJt"
      },
      "execution_count": null,
      "outputs": []
    },
    {
      "cell_type": "code",
      "source": [
        "\n",
        "\n",
        "pessoas = [ {'nome': 'João', 'idade': 25, 'genero': 'Masculino'}, {'nome': 'Maria', 'idade': 30, 'genero': 'Feminino'}, {'nome': 'Pedro', 'idade': 20, 'genero': 'Masculino'}]\n",
        "\n",
        "\n",
        "def comparar(reg1, reg2):\n",
        "    # compara idade\n",
        "    if reg1.idade < reg2.idade:\n",
        "        return -1\n",
        "    elif reg1.idade > reg2.idade:\n",
        "        return 1\n",
        "    else:\n",
        "        # compara genero\n",
        "        if reg1.genero == 'F' and reg2.genero != 'F':\n",
        "            return -1\n",
        "        elif reg1.genero != 'F' and reg2.genero == 'F':\n",
        "            return 1\n",
        "        else:\n",
        "            return 0\n",
        "\n",
        "def quickSort(vetor):\n",
        "    if len(vetor) <= 1:\n",
        "        return vetor\n",
        "    else:\n",
        "        pivo = vetor[0]\n",
        "        menores = []\n",
        "        maiores = []\n",
        "        iguais = []\n",
        "        for reg in vetor:\n",
        "            comp = comparar(reg, pivo)\n",
        "            if comp < 0:\n",
        "                menores.append(reg)\n",
        "            elif comp > 0:\n",
        "                maiores.append(reg)\n",
        "            else:\n",
        "                iguais.append(reg)\n",
        "        return quicksort(menores) + iguais + quicksort(maiores)\n",
        "\n",
        "quickSort(registros)\n",
        "print(registros)\n"
      ],
      "metadata": {
        "id": "-h-mk0hdEFL_"
      },
      "execution_count": null,
      "outputs": []
    },
    {
      "cell_type": "code",
      "source": [
        "def particionamento(vetorReg, esq, dir):\n",
        "    pivo = vetorReg[dir]\n",
        "    i = esq - 1\n",
        "\n",
        "    for j in range(esq, dir):\n",
        "        if vetorReg[j][1] < pivo[1] or (vetorReg[j][1] == pivo[1] and vetorReg[j][2] < pivo[2]):\n",
        "            i += 1\n",
        "            vetorReg[i], vetorReg[j] = vetorReg[j], vetorReg[i]\n",
        "\n",
        "    vetorReg[i+1], vetorReg[dir] = vetorReg[dir], vetorReg[i+1]\n",
        "\n",
        "    return i+1\n",
        "\n",
        "def quicksortAdap(vetorReg, esq, dir):\n",
        "    if esq < dir:\n",
        "        p = particionamento(vetorReg, esq, dir)\n",
        "        quicksortAdap(vetorReg, esq, p-1)\n",
        "        quicksortAdap(vetorReg, p+1, dir)\n",
        "\n",
        "    return vetorReg\n",
        "\n",
        "vetorReg = [(\"Kabal\", 30, \"M\"), (\"Kung\", 25, \"M\"), (\"Jade\", 25, \"F\"), (\"Goro\", 25, \"X\"), (\"Sindel\", 30, \"F\"), (\"Cassie\", 21, \"F\")]\n",
        "print(quicksortAdap(vetorReg, 0, len(vetorReg)-1))"
      ],
      "metadata": {
        "colab": {
          "base_uri": "https://localhost:8080/"
        },
        "id": "sDap0VMsHKZX",
        "outputId": "11d92761-8797-4639-c1ee-524f91e1a2f7"
      },
      "execution_count": null,
      "outputs": [
        {
          "output_type": "stream",
          "name": "stdout",
          "text": [
            "[('Cassie', 21, 'F'), ('Jade', 25, 'F'), ('Kung', 25, 'M'), ('Goro', 25, 'X'), ('Sindel', 30, 'F'), ('Kabal', 30, 'M')]\n"
          ]
        }
      ]
    },
    {
      "cell_type": "code",
      "source": [
        "# Q3 - Q1 Miniteste 2\n",
        "\n",
        "def particionamento(vetorReg, esq, dir):\n",
        "    pivo = vetorReg[dir]\n",
        "    i = esq - 1\n",
        "\n",
        "    for j in range(esq, dir):\n",
        "        if vetorReg[j][1] < pivo[1] or (vetorReg[j][1] == pivo[1] and vetorReg[j][2] < pivo[2]):\n",
        "            i += 1\n",
        "            vetorReg[i], vetorReg[j] = vetorReg[j], vetorReg[i]\n",
        "\n",
        "    vetorReg[i+1], vetorReg[dir] = vetorReg[dir], vetorReg[i+1]\n",
        "\n",
        "    return i+1\n",
        "\n",
        "def quicksortAdap(vetorReg, esq, dir):\n",
        "    if esq < dir:\n",
        "        p = particionamento(vetorReg, esq, dir)\n",
        "        quicksortAdap(vetorReg, esq, p-1)\n",
        "        quicksortAdap(vetorReg, p+1, dir)\n",
        "\n",
        "    return vetorReg\n",
        "\n",
        "vetorReg = [(\"Kabal\", 30, \"M\"), (\"Kung\", 25, \"M\"), (\"Jade\", 25, \"F\"), (\"Goro\", 25, \"X\"), (\"Sindel\", 30, \"F\"), (\"Cassie\", 21, \"F\")]\n",
        "print(quicksortAdap(vetorReg, 0, len(vetorReg)-1))"
      ],
      "metadata": {
        "id": "tmdDBM-SJZgz"
      },
      "execution_count": null,
      "outputs": []
    }
  ]
}